{
 "cells": [
  {
   "cell_type": "code",
   "execution_count": 233,
   "id": "3290590d",
   "metadata": {},
   "outputs": [],
   "source": [
    "import pandas as pd\n",
    "import matplotlib.pyplot as plt\n",
    "import numpy as np\n",
    "from scipy import stats"
   ]
  },
  {
   "cell_type": "code",
   "execution_count": 234,
   "id": "bae26218",
   "metadata": {},
   "outputs": [],
   "source": [
    "def get_data(filename):\n",
    "    data = pd.read_csv(filename, names=['Time', 'Voltage'], dtype={\"Time\": \"string\", \"Voltage\": \"string\"})\n",
    "    data = data[2:]\n",
    "    data['Time'] = pd.to_numeric(data['Time'])\n",
    "    data['Voltage'] = pd.to_numeric(data['Voltage'])\n",
    "    data['Time'] += abs(data['Time'].iloc[0])\n",
    "    \n",
    "    return data"
   ]
  },
  {
   "cell_type": "code",
   "execution_count": 302,
   "id": "a2225c20",
   "metadata": {},
   "outputs": [],
   "source": [
    "data1 = get_data('data_raw/C/scope_11_1.csv') # low\n",
    "data2 = get_data('data_raw/C/scope_11_2.csv') # high"
   ]
  },
  {
   "cell_type": "code",
   "execution_count": 303,
   "id": "e9844885",
   "metadata": {},
   "outputs": [],
   "source": [
    "# oscilloscope applied a factor of 10 to high signal, unsure why\n",
    "data2['Voltage'] *= 10"
   ]
  },
  {
   "cell_type": "code",
   "execution_count": 304,
   "id": "3a8fb50d",
   "metadata": {},
   "outputs": [],
   "source": [
    "voltage_diff = data2['Voltage'] - data1['Voltage']\n",
    "data_diff = pd.DataFrame({'Time': data1['Time'], 'Voltage': voltage_diff})"
   ]
  },
  {
   "cell_type": "code",
   "execution_count": 336,
   "id": "bb97eb02",
   "metadata": {},
   "outputs": [],
   "source": [
    "data_diff_trim = data_diff"
   ]
  },
  {
   "cell_type": "code",
   "execution_count": 349,
   "id": "8cacd13d",
   "metadata": {},
   "outputs": [],
   "source": [
    "# plt.figure(figsize=(10, 6))\n",
    "# plt.plot(data_diff_trim['Time'], data_diff_trim['Voltage'], marker='', linestyle='-', label='Differential')\n",
    "# plt.plot(data1['Time'][:2000], data1['Voltage'][:2000], marker='', linestyle='-', label='CANL')\n",
    "# plt.plot(data2['Time'][:2000], data2['Voltage'][:2000], marker='', linestyle='-', label='CANH')\n",
    "# plt.title('CAN Signal Sample')\n",
    "# plt.xlabel('Time (s)')\n",
    "# plt.ylabel('Voltage (V)')\n",
    "# plt.grid(True)\n",
    "# plt.legend()\n",
    "# plt.show()"
   ]
  },
  {
   "cell_type": "code",
   "execution_count": 338,
   "id": "61ef0377",
   "metadata": {},
   "outputs": [],
   "source": [
    "voltage = np.array(data_diff_trim['Voltage'])\n",
    "time = np.array(data_diff_trim['Time'])"
   ]
  },
  {
   "cell_type": "code",
   "execution_count": 339,
   "id": "88518007",
   "metadata": {},
   "outputs": [],
   "source": [
    "# voltage thresholds (paper)\n",
    "#   rising edge = 0.85 V\n",
    "#   falling edge = 0.2 V"
   ]
  },
  {
   "cell_type": "code",
   "execution_count": 348,
   "id": "cbf13a6b",
   "metadata": {},
   "outputs": [],
   "source": [
    "# convert to square wave\n",
    "rising_thresh = 0.85\n",
    "falling_thresh = 0.2\n",
    "\n",
    "if voltage[0] > 1:\n",
    "    current_state = 1 # high\n",
    "else:\n",
    "    current_state = 0 # low\n",
    "\n",
    "voltage_square = []\n",
    "\n",
    "for v in voltage:\n",
    "    if current_state == 0 and v < rising_thresh:\n",
    "        voltage_square.append(0)\n",
    "    elif current_state == 0 and v >= rising_thresh:\n",
    "        voltage_square.append(1)\n",
    "        current_state = 1\n",
    "    elif current_state == 1 and v >= falling_thresh:\n",
    "        voltage_square.append(1)\n",
    "    elif current_state == 1 and v < falling_thresh:\n",
    "        voltage_square.append(0)\n",
    "        current_state = 0\n",
    "        \n",
    "\n",
    "# plt.figure(figsize=(10, 2))\n",
    "# # plt.plot(data_diff_trim['Time'], data_diff_trim['Voltage'], marker='', linestyle='-', label='Differential')\n",
    "# plt.plot(time, voltage_square, marker='', linestyle='-', label='Binary Signal')\n",
    "# plt.title('CAN Signal Sample')\n",
    "# plt.xlabel('Time (s)')\n",
    "# plt.ylabel('Signal Value')\n",
    "# plt.grid(True)\n",
    "# plt.legend()\n",
    "# plt.show()"
   ]
  },
  {
   "cell_type": "code",
   "execution_count": 341,
   "id": "f35d630b",
   "metadata": {},
   "outputs": [],
   "source": [
    "# get indices of bit changes\n",
    "transition_idx = np.where(np.diff(voltage_square) != 0)[0] + 1\n",
    "\n",
    "# get time of bit changes\n",
    "transition_time = time[transition_idx]\n",
    "\n",
    "# get length of constant bit values\n",
    "transition_time_diff = np.diff(transition_time)\n",
    "\n",
    "# split into 0 (dominate) and 1 (recessive) bits\n",
    "if voltage_square[0] == 0:\n",
    "    transition_time_diff_1 = transition_time_diff[::2]\n",
    "    transition_time_diff_0 = transition_time_diff[1::2]\n",
    "else:\n",
    "    transition_time_diff_0 = transition_time_diff[::2]\n",
    "    transition_time_diff_1 = transition_time_diff[1::2]"
   ]
  },
  {
   "cell_type": "code",
   "execution_count": 244,
   "id": "406fbc5b",
   "metadata": {},
   "outputs": [],
   "source": [
    "def prepare_bit_times(transition_time_diff):\n",
    "    # remove inter-frame gap\n",
    "    # at most 5 consecutive bits = .000004*5 = .00002\n",
    "    threshold = 0.000022\n",
    "    indices = np.where(transition_time_diff > threshold)[0]\n",
    "    transition_time_diff_trim = list(np.delete(transition_time_diff, indices))\n",
    "    \n",
    "    # split repeat bits\n",
    "    idx = 0\n",
    "    while (idx < len(transition_time_diff_trim)):\n",
    "        val = transition_time_diff_trim[idx]\n",
    "        \n",
    "        # 1 bit\n",
    "        # .000004\n",
    "        if (val < 0.000005):\n",
    "            idx += 1\n",
    "            continue\n",
    "            \n",
    "        # two bits\n",
    "        # .000008\n",
    "        elif (val > 0.000005) and (val < 0.000010):\n",
    "            new_vals = [val/2, val/2]\n",
    "            transition_time_diff_trim = transition_time_diff_trim[:idx] + new_vals + transition_time_diff_trim[idx+1:]\n",
    "\n",
    "            idx += 2\n",
    "        \n",
    "        # three bits\n",
    "        # .000012\n",
    "        elif (val > 0.000010) and (val < 0.000013):\n",
    "            new_vals = [val/3, val/3, val/3]\n",
    "            transition_time_diff_trim = transition_time_diff_trim[:idx] + new_vals + transition_time_diff_trim[idx+1:]\n",
    "\n",
    "            idx += 3\n",
    "        \n",
    "        # four bits\n",
    "        # .000016\n",
    "        elif (val > 0.000013) and (val < 0.000018):\n",
    "            new_vals = [val/4, val/4, val/4, val/4]\n",
    "            transition_time_diff_trim = transition_time_diff_trim[:idx] + new_vals + transition_time_diff_trim[idx+1:]\n",
    "\n",
    "            idx += 4\n",
    "        \n",
    "        # five bits\n",
    "        # .000016\n",
    "        elif (val > 0.000018) and (val < 0.000022):\n",
    "            new_vals = [val/5, val/5, val/5, val/5, val/5]\n",
    "            transition_time_diff_trim = transition_time_diff_trim[:idx] + new_vals + transition_time_diff_trim[idx+1:]\n",
    "\n",
    "            idx += 5\n",
    "               \n",
    "        else:\n",
    "            print(val)\n",
    "            print(\"Error\")\n",
    "            \n",
    "    return transition_time_diff_trim"
   ]
  },
  {
   "cell_type": "code",
   "execution_count": 245,
   "id": "9e4fb224",
   "metadata": {},
   "outputs": [],
   "source": [
    "bit_times_0 = prepare_bit_times(transition_time_diff_0)\n",
    "bit_times_1 = prepare_bit_times(transition_time_diff_1)"
   ]
  },
  {
   "cell_type": "code",
   "execution_count": 246,
   "id": "b0526348",
   "metadata": {},
   "outputs": [
    {
     "name": "stdout",
     "output_type": "stream",
     "text": [
      "3.942399900001836e-06 4.019200100000009e-06\n",
      "3.968000000000027e-06 4.0448001000018e-06\n"
     ]
    }
   ],
   "source": [
    "print(min(bit_times_0), max(bit_times_0))\n",
    "print(min(bit_times_1), max(bit_times_1))"
   ]
  },
  {
   "cell_type": "code",
   "execution_count": 247,
   "id": "d86ebf6a",
   "metadata": {},
   "outputs": [],
   "source": [
    "# save data\n",
    "np.savetxt('data_raw_2/C0_2.txt', bit_times_0)\n",
    "np.savetxt('data_raw_2/C1_2.txt', bit_times_1)"
   ]
  },
  {
   "cell_type": "code",
   "execution_count": 268,
   "id": "6b55621e",
   "metadata": {},
   "outputs": [],
   "source": [
    "first = np.loadtxt('data_raw_2/C1_1.txt')\n",
    "second = np.loadtxt('data_raw_2/C1_2.txt')\n",
    "\n",
    "concat = np.concatenate((first, second))\n",
    "np.savetxt('data_raw_2/C1.txt',concat)"
   ]
  },
  {
   "cell_type": "code",
   "execution_count": 294,
   "id": "ebe39bf2",
   "metadata": {},
   "outputs": [],
   "source": [
    "data0 = np.loadtxt('data_raw_2/C0.txt')\n",
    "data1 = np.loadtxt('data_raw_2/C1.txt')"
   ]
  },
  {
   "cell_type": "code",
   "execution_count": 346,
   "id": "0adf4e43",
   "metadata": {},
   "outputs": [],
   "source": [
    "def extract_features(data, bits_per_data_pt):\n",
    "    i = 0\n",
    "    j = bits_per_data_pt\n",
    "    \n",
    "    data_features = []\n",
    "    \n",
    "    while j < data.shape[0]:\n",
    "        data_slice = data[i:j]\n",
    "\n",
    "        mean = np.mean(data_slice)\n",
    "        std = np.std(data_slice)\n",
    "        var = np.var(data_slice)\n",
    "        skew = stats.skew(data_slice)\n",
    "        kurtosis = stats.kurtosis(data_slice)\n",
    "        rms = np.sqrt(np.mean(data_slice**2))\n",
    "        # high = np.max(data_slice)\n",
    "        energy = np.mean(data_slice**2)\n",
    "\n",
    "        i += bits_per_data_pt\n",
    "        j += bits_per_data_pt\n",
    "        \n",
    "        data_features.append([mean, std, var, skew, kurtosis, rms, energy])\n",
    "    \n",
    "    return data_features"
   ]
  },
  {
   "cell_type": "code",
   "execution_count": 347,
   "id": "953a950e",
   "metadata": {},
   "outputs": [],
   "source": [
    "bits_per_data_pt0 = (data0.shape[0]//140)*5\n",
    "bits_per_data_pt1 = (data1.shape[0]//140)*5\n",
    "\n",
    "\n",
    "data0_features = np.array(extract_features(data0, bits_per_data_pt0))\n",
    "data1_features = np.array(extract_features(data1, bits_per_data_pt1))"
   ]
  },
  {
   "cell_type": "code",
   "execution_count": 297,
   "id": "9ad6d71f",
   "metadata": {},
   "outputs": [],
   "source": [
    "data_features = np.concatenate((data0_features, data1_features), axis=1)"
   ]
  },
  {
   "cell_type": "code",
   "execution_count": 298,
   "id": "abe0da1c",
   "metadata": {},
   "outputs": [],
   "source": [
    "np.savetxt('data_2/C_features.txt', data_features)"
   ]
  },
  {
   "cell_type": "code",
   "execution_count": 254,
   "id": "a1501234",
   "metadata": {},
   "outputs": [],
   "source": [
    "# dataA = np.loadtxt('data/features/A_features.txt')\n",
    "# dataB = np.loadtxt('data/features/B_features.txt')\n",
    "# dataC = np.loadtxt('data/features/B_features.txt')"
   ]
  },
  {
   "cell_type": "code",
   "execution_count": 255,
   "id": "b824640a",
   "metadata": {},
   "outputs": [],
   "source": [
    "# targetA = np.full(dataA.shape[0], 0)\n",
    "# targetB = np.full(dataB.shape[0], 1)\n",
    "# targetC = np.full(dataC.shape[0], 2)"
   ]
  },
  {
   "cell_type": "code",
   "execution_count": 256,
   "id": "a9ec945c",
   "metadata": {},
   "outputs": [],
   "source": [
    "# all_data = np.concatenate((dataA, dataB, dataC), axis=0)\n",
    "# all_target = np.concatenate((targetA, targetB, targetC), axis=0)"
   ]
  },
  {
   "cell_type": "code",
   "execution_count": 257,
   "id": "fa980424",
   "metadata": {},
   "outputs": [],
   "source": [
    "# all_target"
   ]
  },
  {
   "cell_type": "code",
   "execution_count": 258,
   "id": "c78e2b43",
   "metadata": {},
   "outputs": [],
   "source": [
    "# 15730 bits\n",
    "# 112 bits / message\n",
    "# 140 frames\n",
    "# 5 frames per data point\n",
    "# 28 data points"
   ]
  },
  {
   "cell_type": "code",
   "execution_count": 259,
   "id": "9dd9151b",
   "metadata": {},
   "outputs": [],
   "source": [
    "# bit time approx\n",
    "# 500*10^3 bits per second\n",
    "# 2*10^6 seconds per bit\n",
    "# experimental bit rate is 4*10^6 seconds per bit"
   ]
  },
  {
   "cell_type": "code",
   "execution_count": 260,
   "id": "76f83a3e",
   "metadata": {},
   "outputs": [],
   "source": [
    "# 645,000 sps"
   ]
  },
  {
   "cell_type": "code",
   "execution_count": 261,
   "id": "215653a0",
   "metadata": {},
   "outputs": [],
   "source": [
    "# max data points is 2,000,000 (2 Mhz)\n",
    "# we want 50,000,000 sps\n",
    "# 0.04 sec to get same sampleing rate\n",
    "\n",
    "# 1 frame is 441*10^-6 s\n",
    "# 0.04 sec / 441*10^-6 s ~= 90 frames\n",
    "\n",
    "# bitrate = 500*10^3 bps\n",
    "# 1 frame ~80 bits\n",
    "# 1 frame = 0.00016 seconds = 160 * 10^-6 s\n",
    "\n",
    "# timeout > .5 ms = 1 ms\n",
    "\n",
    "# 0.04/10 = 0.004 = 4ms\n",
    "\n",
    "# 45 frames / 5 = 9 data points\n",
    "\n",
    "# 1 = LOW\n",
    "# 2 = HIGH\n",
    "# diff = 1-2"
   ]
  }
 ],
 "metadata": {
  "kernelspec": {
   "display_name": "general",
   "language": "python",
   "name": "general"
  },
  "language_info": {
   "codemirror_mode": {
    "name": "ipython",
    "version": 3
   },
   "file_extension": ".py",
   "mimetype": "text/x-python",
   "name": "python",
   "nbconvert_exporter": "python",
   "pygments_lexer": "ipython3",
   "version": "3.9.16"
  }
 },
 "nbformat": 4,
 "nbformat_minor": 5
}
