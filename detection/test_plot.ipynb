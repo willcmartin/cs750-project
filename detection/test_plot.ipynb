{
 "cells": [
  {
   "cell_type": "code",
   "execution_count": 2,
   "id": "3290590d",
   "metadata": {},
   "outputs": [],
   "source": [
    "import pandas as pd\n",
    "import matplotlib.pyplot as plt\n",
    "import numpy as np\n",
    "from scipy import stats"
   ]
  },
  {
   "cell_type": "code",
   "execution_count": 435,
   "id": "bae26218",
   "metadata": {},
   "outputs": [],
   "source": [
    "def get_data(filename):\n",
    "    data = pd.read_csv(filename, names=['Time', 'Voltage'], dtype={\"Time\": \"string\", \"Voltage\": \"string\"})\n",
    "    data = data[2:]\n",
    "    data['Time'] = pd.to_numeric(data['Time'])\n",
    "    data['Voltage'] = pd.to_numeric(data['Voltage'])\n",
    "    data['Time'] += abs(data['Time'].iloc[0])\n",
    "    \n",
    "    return data"
   ]
  },
  {
   "cell_type": "code",
   "execution_count": 436,
   "id": "a2225c20",
   "metadata": {},
   "outputs": [],
   "source": [
    "data1 = get_data('data/C/scope_11_1.csv')\n",
    "data2 = get_data('data/C/scope_11_2.csv')"
   ]
  },
  {
   "cell_type": "code",
   "execution_count": 437,
   "id": "3a8fb50d",
   "metadata": {},
   "outputs": [],
   "source": [
    "voltage_diff = data1['Voltage'] - data2['Voltage']\n",
    "data_diff = pd.DataFrame({'Time': data1['Time'], 'Voltage': voltage_diff})"
   ]
  },
  {
   "cell_type": "code",
   "execution_count": 438,
   "id": "bb97eb02",
   "metadata": {},
   "outputs": [],
   "source": [
    "data_diff_trim = data_diff"
   ]
  },
  {
   "cell_type": "code",
   "execution_count": 439,
   "id": "8cacd13d",
   "metadata": {},
   "outputs": [],
   "source": [
    "# plt.figure(figsize=(10, 6))\n",
    "# plt.plot(data_diff_trim['Time'], data_diff_trim['Voltage'], marker='', linestyle='-')\n",
    "# plt.title('Voltage vs. Time')\n",
    "# plt.xlabel('Time')\n",
    "# plt.ylabel('Voltage')\n",
    "# plt.grid(True)\n",
    "# plt.show()"
   ]
  },
  {
   "cell_type": "code",
   "execution_count": 440,
   "id": "61ef0377",
   "metadata": {},
   "outputs": [],
   "source": [
    "voltage = np.array(data_diff_trim['Voltage'])\n",
    "time = np.array(data_diff_trim['Time'])"
   ]
  },
  {
   "cell_type": "code",
   "execution_count": 441,
   "id": "88518007",
   "metadata": {},
   "outputs": [],
   "source": [
    "# voltage thresholds (paper)\n",
    "#   rising edge = 0.85 V\n",
    "#   falling edge = 0.2 V\n",
    "# voltage thresholds (used)\n",
    "#   rising edge = 1.4 V\n",
    "#   falling edge = 1.4 V\n",
    "\n",
    "# TODO: use differnt thresholds to improve accuracy"
   ]
  },
  {
   "cell_type": "code",
   "execution_count": 442,
   "id": "cbf13a6b",
   "metadata": {},
   "outputs": [],
   "source": [
    "# convert to square wave\n",
    "thresh = 1.4\n",
    "voltage_square = np.where(voltage > thresh, 1, 0)\n",
    "\n",
    "# plt.figure(figsize=(10, 6))\n",
    "# plt.plot(data_diff_trim['Time'], data_diff_trim['Voltage'], marker='', linestyle='-')\n",
    "# plt.plot(time, voltage_square, marker='', linestyle='-')\n",
    "# plt.title('Voltage vs. Time')\n",
    "# plt.xlabel('Time')\n",
    "# plt.ylabel('Voltage')\n",
    "# plt.grid(True)\n",
    "# plt.show()"
   ]
  },
  {
   "cell_type": "code",
   "execution_count": 443,
   "id": "f35d630b",
   "metadata": {},
   "outputs": [],
   "source": [
    "# get indices of bit changes\n",
    "transition_idx = np.where(np.diff(voltage_square) != 0)[0] + 1\n",
    "\n",
    "# get time of bit changes\n",
    "transition_time = time[transition_idx]\n",
    "\n",
    "# get length of constant bit values\n",
    "transition_time_diff = np.diff(transition_time)\n",
    "\n",
    "# split into 0 (dominate) and 1 (recessive) bits\n",
    "if voltage_square[0] == 0:\n",
    "    transition_time_diff_1 = transition_time_diff[::2]\n",
    "    transition_time_diff_0 = transition_time_diff[1::2]\n",
    "else:\n",
    "    transition_time_diff_0 = transition_time_diff[::2]\n",
    "    transition_time_diff_1 = transition_time_diff[1::2]"
   ]
  },
  {
   "cell_type": "code",
   "execution_count": 444,
   "id": "406fbc5b",
   "metadata": {},
   "outputs": [],
   "source": [
    "def prepare_bit_times(transition_time_diff):\n",
    "    # remove inter-frame gap\n",
    "    # at most 5 consecutive bits = .000004*5 = .00002\n",
    "    threshold = 0.000022\n",
    "    indices = np.where(transition_time_diff > threshold)[0]\n",
    "    transition_time_diff_trim = list(np.delete(transition_time_diff, indices))\n",
    "    \n",
    "    # split repeat bits\n",
    "    idx = 0\n",
    "    while (idx < len(transition_time_diff_trim)):\n",
    "        val = transition_time_diff_trim[idx]\n",
    "        \n",
    "        # 1 bit\n",
    "        # .000004\n",
    "        if (val < 0.000005):\n",
    "            idx += 1\n",
    "            continue\n",
    "            \n",
    "        # two bits\n",
    "        # .000008\n",
    "        elif (val > 0.000005) and (val < 0.000010):\n",
    "            new_vals = [val/2, val/2]\n",
    "            transition_time_diff_trim = transition_time_diff_trim[:idx] + new_vals + transition_time_diff_trim[idx+1:]\n",
    "\n",
    "            idx += 2\n",
    "        \n",
    "        # three bits\n",
    "        # .000012\n",
    "        elif (val > 0.000010) and (val < 0.000013):\n",
    "            new_vals = [val/3, val/3, val/3]\n",
    "            transition_time_diff_trim = transition_time_diff_trim[:idx] + new_vals + transition_time_diff_trim[idx+1:]\n",
    "\n",
    "            idx += 3\n",
    "        \n",
    "        # four bits\n",
    "        # .000016\n",
    "        elif (val > 0.000013) and (val < 0.000018):\n",
    "            new_vals = [val/4, val/4, val/4, val/4]\n",
    "            transition_time_diff_trim = transition_time_diff_trim[:idx] + new_vals + transition_time_diff_trim[idx+1:]\n",
    "\n",
    "            idx += 4\n",
    "        \n",
    "        # five bits\n",
    "        # .000016\n",
    "        elif (val > 0.000018) and (val < 0.000022):\n",
    "            new_vals = [val/5, val/5, val/5, val/5, val/5]\n",
    "            transition_time_diff_trim = transition_time_diff_trim[:idx] + new_vals + transition_time_diff_trim[idx+1:]\n",
    "\n",
    "            idx += 5\n",
    "               \n",
    "        else:\n",
    "            print(val)\n",
    "            print(\"Error\")\n",
    "            \n",
    "    return transition_time_diff_trim"
   ]
  },
  {
   "cell_type": "code",
   "execution_count": 445,
   "id": "9e4fb224",
   "metadata": {},
   "outputs": [],
   "source": [
    "bit_times_0 = prepare_bit_times(transition_time_diff_0)\n",
    "bit_times_1 = prepare_bit_times(transition_time_diff_1)"
   ]
  },
  {
   "cell_type": "code",
   "execution_count": 446,
   "id": "b0526348",
   "metadata": {},
   "outputs": [
    {
     "name": "stdout",
     "output_type": "stream",
     "text": [
      "3.993599899998479e-06 4.0704001000035905e-06\n",
      "3.916799900000045e-06 4.006399949999309e-06\n"
     ]
    }
   ],
   "source": [
    "print(min(bit_times_0), max(bit_times_0))\n",
    "print(min(bit_times_1), max(bit_times_1))"
   ]
  },
  {
   "cell_type": "code",
   "execution_count": 470,
   "id": "d86ebf6a",
   "metadata": {},
   "outputs": [],
   "source": [
    "# save data\n",
    "# np.savetxt('C0_2.txt', bit_times_0)\n",
    "# np.savetxt('C1_2.txt', bit_times_1)"
   ]
  },
  {
   "cell_type": "code",
   "execution_count": 471,
   "id": "6b55621e",
   "metadata": {},
   "outputs": [],
   "source": [
    "# first = np.loadtxt('C1_1.txt')\n",
    "# second = np.loadtxt('C1_2.txt')\n",
    "\n",
    "# concat = np.concatenate((first, second))\n",
    "# np.savetxt('C1.txt',concat)"
   ]
  },
  {
   "cell_type": "code",
   "execution_count": 23,
   "id": "ebe39bf2",
   "metadata": {},
   "outputs": [],
   "source": [
    "data0 = np.loadtxt('data/bit_times/C0.txt')\n",
    "data1 = np.loadtxt('data/bit_times/C1.txt')"
   ]
  },
  {
   "cell_type": "code",
   "execution_count": 24,
   "id": "0adf4e43",
   "metadata": {},
   "outputs": [],
   "source": [
    "def extract_features(data, bits_per_data_pt):\n",
    "    i = 0\n",
    "    j = bits_per_data_pt\n",
    "    \n",
    "    data_features = []\n",
    "    \n",
    "    while j < data.shape[0]:\n",
    "        data_slice = data[i:j]\n",
    "\n",
    "        mean = np.mean(data_slice)\n",
    "        std = np.std(data_slice)\n",
    "        var = np.var(data_slice)\n",
    "        skew = stats.skew(data_slice)\n",
    "        kurtosis = stats.kurtosis(data_slice)\n",
    "        rms = np.sqrt(np.mean(data_slice**2))\n",
    "        high = np.max(data_slice)\n",
    "        energy = np.mean(data_slice**2)\n",
    "\n",
    "        i += bits_per_data_pt\n",
    "        j += bits_per_data_pt\n",
    "        \n",
    "        data_features.append([mean, std, var, skew, kurtosis, rms, high, energy])\n",
    "    \n",
    "    return data_features"
   ]
  },
  {
   "cell_type": "code",
   "execution_count": 25,
   "id": "953a950e",
   "metadata": {},
   "outputs": [],
   "source": [
    "bits_per_data_pt0 = (data0.shape[0]//140)*5\n",
    "bits_per_data_pt1 = (data1.shape[0]//140)*5\n",
    "\n",
    "\n",
    "data0_features = np.array(extract_features(data0, bits_per_data_pt0))\n",
    "data1_features = np.array(extract_features(data1, bits_per_data_pt1))"
   ]
  },
  {
   "cell_type": "code",
   "execution_count": 26,
   "id": "9ad6d71f",
   "metadata": {},
   "outputs": [],
   "source": [
    "data_features = np.concatenate((data0_features, data1_features), axis=1)"
   ]
  },
  {
   "cell_type": "code",
   "execution_count": 27,
   "id": "abe0da1c",
   "metadata": {},
   "outputs": [],
   "source": [
    "np.savetxt('C_features.txt', data_features)"
   ]
  },
  {
   "cell_type": "code",
   "execution_count": 38,
   "id": "a1501234",
   "metadata": {},
   "outputs": [],
   "source": [
    "dataA = np.loadtxt('data/features/A_features.txt')\n",
    "dataB = np.loadtxt('data/features/B_features.txt')\n",
    "dataC = np.loadtxt('data/features/B_features.txt')"
   ]
  },
  {
   "cell_type": "code",
   "execution_count": 50,
   "id": "b824640a",
   "metadata": {},
   "outputs": [],
   "source": [
    "targetA = np.full(dataA.shape[0], 0)\n",
    "targetB = np.full(dataB.shape[0], 1)\n",
    "targetC = np.full(dataC.shape[0], 2)"
   ]
  },
  {
   "cell_type": "code",
   "execution_count": 51,
   "id": "a9ec945c",
   "metadata": {},
   "outputs": [],
   "source": [
    "all_data = np.concatenate((dataA, dataB, dataC), axis=0)\n",
    "all_target = np.concatenate((targetA, targetB, targetC), axis=0)"
   ]
  },
  {
   "cell_type": "code",
   "execution_count": 53,
   "id": "fa980424",
   "metadata": {},
   "outputs": [
    {
     "data": {
      "text/plain": [
       "array([0, 0, 0, 0, 0, 0, 0, 0, 0, 0, 0, 0, 0, 0, 0, 0, 0, 0, 0, 0, 0, 0,\n",
       "       0, 0, 0, 0, 0, 0, 1, 1, 1, 1, 1, 1, 1, 1, 1, 1, 1, 1, 1, 1, 1, 1,\n",
       "       1, 1, 1, 1, 1, 1, 1, 1, 1, 1, 1, 1, 2, 2, 2, 2, 2, 2, 2, 2, 2, 2,\n",
       "       2, 2, 2, 2, 2, 2, 2, 2, 2, 2, 2, 2, 2, 2, 2, 2, 2, 2])"
      ]
     },
     "execution_count": 53,
     "metadata": {},
     "output_type": "execute_result"
    }
   ],
   "source": [
    "all_target"
   ]
  },
  {
   "cell_type": "code",
   "execution_count": null,
   "id": "c78e2b43",
   "metadata": {},
   "outputs": [],
   "source": [
    "# 15730 bits\n",
    "# 112 bits / message\n",
    "# 140 frames\n",
    "# 5 frames per data point\n",
    "# 28 data points"
   ]
  },
  {
   "cell_type": "code",
   "execution_count": 448,
   "id": "9dd9151b",
   "metadata": {},
   "outputs": [],
   "source": [
    "# bit time approx\n",
    "# 500*10^3 bits per second\n",
    "# 2*10^6 seconds per bit\n",
    "# experimental bit rate is 4*10^6 seconds per bit"
   ]
  },
  {
   "cell_type": "code",
   "execution_count": 449,
   "id": "76f83a3e",
   "metadata": {},
   "outputs": [],
   "source": [
    "# 645,000 sps"
   ]
  },
  {
   "cell_type": "code",
   "execution_count": 450,
   "id": "215653a0",
   "metadata": {},
   "outputs": [],
   "source": [
    "# max data points is 2,000,000 (2 Mhz)\n",
    "# we want 50,000,000 sps\n",
    "# 0.04 sec to get same sampleing rate\n",
    "\n",
    "# 1 frame is 441*10^-6 s\n",
    "# 0.04 sec / 441*10^-6 s ~= 90 frames\n",
    "\n",
    "# bitrate = 500*10^3 bps\n",
    "# 1 frame ~80 bits\n",
    "# 1 frame = 0.00016 seconds = 160 * 10^-6 s\n",
    "\n",
    "# timeout > .5 ms = 1 ms\n",
    "\n",
    "# 0.04/10 = 0.004 = 4ms\n",
    "\n",
    "# 45 frames / 5 = 9 data points\n",
    "\n",
    "# 1 = LOW\n",
    "# 2 = HIGH\n",
    "# diff = 1-2"
   ]
  }
 ],
 "metadata": {
  "kernelspec": {
   "display_name": "general",
   "language": "python",
   "name": "general"
  },
  "language_info": {
   "codemirror_mode": {
    "name": "ipython",
    "version": 3
   },
   "file_extension": ".py",
   "mimetype": "text/x-python",
   "name": "python",
   "nbconvert_exporter": "python",
   "pygments_lexer": "ipython3",
   "version": "3.9.16"
  }
 },
 "nbformat": 4,
 "nbformat_minor": 5
}
