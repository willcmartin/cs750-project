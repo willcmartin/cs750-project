{
 "cells": [
  {
   "cell_type": "code",
   "execution_count": 167,
   "id": "3290590d",
   "metadata": {},
   "outputs": [],
   "source": [
    "import pandas as pd\n",
    "import matplotlib.pyplot as plt\n",
    "import numpy as np"
   ]
  },
  {
   "cell_type": "code",
   "execution_count": 168,
   "id": "bae26218",
   "metadata": {},
   "outputs": [],
   "source": [
    "def get_data(filename):\n",
    "    data = pd.read_csv(filename, names=['Time', 'Voltage'], dtype={\"Time\": \"string\", \"Voltage\": \"string\"})\n",
    "    data = data[2:]\n",
    "    data['Time'] = pd.to_numeric(data['Time'])\n",
    "    data['Voltage'] = pd.to_numeric(data['Voltage'])\n",
    "    data['Time'] += abs(data['Time'].iloc[0])\n",
    "    \n",
    "    return data"
   ]
  },
  {
   "cell_type": "code",
   "execution_count": 169,
   "id": "a2225c20",
   "metadata": {},
   "outputs": [],
   "source": [
    "data1 = get_data('data/B/scope_8_1.csv')\n",
    "data2 = get_data('data/B/scope_8_2.csv')"
   ]
  },
  {
   "cell_type": "code",
   "execution_count": 170,
   "id": "95f47586",
   "metadata": {},
   "outputs": [
    {
     "data": {
      "text/html": [
       "<div>\n",
       "<style scoped>\n",
       "    .dataframe tbody tr th:only-of-type {\n",
       "        vertical-align: middle;\n",
       "    }\n",
       "\n",
       "    .dataframe tbody tr th {\n",
       "        vertical-align: top;\n",
       "    }\n",
       "\n",
       "    .dataframe thead th {\n",
       "        text-align: right;\n",
       "    }\n",
       "</style>\n",
       "<table border=\"1\" class=\"dataframe\">\n",
       "  <thead>\n",
       "    <tr style=\"text-align: right;\">\n",
       "      <th></th>\n",
       "      <th>Time</th>\n",
       "      <th>Voltage</th>\n",
       "    </tr>\n",
       "  </thead>\n",
       "  <tbody>\n",
       "    <tr>\n",
       "      <th>2</th>\n",
       "      <td>0.000000e+00</td>\n",
       "      <td>2.11814</td>\n",
       "    </tr>\n",
       "    <tr>\n",
       "      <th>3</th>\n",
       "      <td>2.560000e-08</td>\n",
       "      <td>2.11814</td>\n",
       "    </tr>\n",
       "    <tr>\n",
       "      <th>4</th>\n",
       "      <td>5.120010e-08</td>\n",
       "      <td>2.11814</td>\n",
       "    </tr>\n",
       "    <tr>\n",
       "      <th>5</th>\n",
       "      <td>7.680000e-08</td>\n",
       "      <td>2.11814</td>\n",
       "    </tr>\n",
       "    <tr>\n",
       "      <th>6</th>\n",
       "      <td>1.024001e-07</td>\n",
       "      <td>2.13824</td>\n",
       "    </tr>\n",
       "    <tr>\n",
       "      <th>...</th>\n",
       "      <td>...</td>\n",
       "      <td>...</td>\n",
       "    </tr>\n",
       "    <tr>\n",
       "      <th>1562497</th>\n",
       "      <td>3.999987e-02</td>\n",
       "      <td>2.21864</td>\n",
       "    </tr>\n",
       "    <tr>\n",
       "      <th>1562498</th>\n",
       "      <td>3.999990e-02</td>\n",
       "      <td>2.21864</td>\n",
       "    </tr>\n",
       "    <tr>\n",
       "      <th>1562499</th>\n",
       "      <td>3.999992e-02</td>\n",
       "      <td>2.19854</td>\n",
       "    </tr>\n",
       "    <tr>\n",
       "      <th>1562500</th>\n",
       "      <td>3.999995e-02</td>\n",
       "      <td>2.21864</td>\n",
       "    </tr>\n",
       "    <tr>\n",
       "      <th>1562501</th>\n",
       "      <td>3.999997e-02</td>\n",
       "      <td>2.21864</td>\n",
       "    </tr>\n",
       "  </tbody>\n",
       "</table>\n",
       "<p>1562500 rows × 2 columns</p>\n",
       "</div>"
      ],
      "text/plain": [
       "                 Time  Voltage\n",
       "2        0.000000e+00  2.11814\n",
       "3        2.560000e-08  2.11814\n",
       "4        5.120010e-08  2.11814\n",
       "5        7.680000e-08  2.11814\n",
       "6        1.024001e-07  2.13824\n",
       "...               ...      ...\n",
       "1562497  3.999987e-02  2.21864\n",
       "1562498  3.999990e-02  2.21864\n",
       "1562499  3.999992e-02  2.19854\n",
       "1562500  3.999995e-02  2.21864\n",
       "1562501  3.999997e-02  2.21864\n",
       "\n",
       "[1562500 rows x 2 columns]"
      ]
     },
     "execution_count": 170,
     "metadata": {},
     "output_type": "execute_result"
    }
   ],
   "source": [
    "data1"
   ]
  },
  {
   "cell_type": "code",
   "execution_count": 171,
   "id": "00552f9a",
   "metadata": {},
   "outputs": [
    {
     "data": {
      "text/html": [
       "<div>\n",
       "<style scoped>\n",
       "    .dataframe tbody tr th:only-of-type {\n",
       "        vertical-align: middle;\n",
       "    }\n",
       "\n",
       "    .dataframe tbody tr th {\n",
       "        vertical-align: top;\n",
       "    }\n",
       "\n",
       "    .dataframe thead th {\n",
       "        text-align: right;\n",
       "    }\n",
       "</style>\n",
       "<table border=\"1\" class=\"dataframe\">\n",
       "  <thead>\n",
       "    <tr style=\"text-align: right;\">\n",
       "      <th></th>\n",
       "      <th>Time</th>\n",
       "      <th>Voltage</th>\n",
       "    </tr>\n",
       "  </thead>\n",
       "  <tbody>\n",
       "    <tr>\n",
       "      <th>2</th>\n",
       "      <td>0.000000e+00</td>\n",
       "      <td>0.206758</td>\n",
       "    </tr>\n",
       "    <tr>\n",
       "      <th>3</th>\n",
       "      <td>2.559990e-08</td>\n",
       "      <td>0.206758</td>\n",
       "    </tr>\n",
       "    <tr>\n",
       "      <th>4</th>\n",
       "      <td>5.120000e-08</td>\n",
       "      <td>0.208768</td>\n",
       "    </tr>\n",
       "    <tr>\n",
       "      <th>5</th>\n",
       "      <td>7.679990e-08</td>\n",
       "      <td>0.208768</td>\n",
       "    </tr>\n",
       "    <tr>\n",
       "      <th>6</th>\n",
       "      <td>1.024000e-07</td>\n",
       "      <td>0.206758</td>\n",
       "    </tr>\n",
       "    <tr>\n",
       "      <th>...</th>\n",
       "      <td>...</td>\n",
       "      <td>...</td>\n",
       "    </tr>\n",
       "    <tr>\n",
       "      <th>1562497</th>\n",
       "      <td>3.999987e-02</td>\n",
       "      <td>0.216808</td>\n",
       "    </tr>\n",
       "    <tr>\n",
       "      <th>1562498</th>\n",
       "      <td>3.999990e-02</td>\n",
       "      <td>0.218818</td>\n",
       "    </tr>\n",
       "    <tr>\n",
       "      <th>1562499</th>\n",
       "      <td>3.999992e-02</td>\n",
       "      <td>0.218818</td>\n",
       "    </tr>\n",
       "    <tr>\n",
       "      <th>1562500</th>\n",
       "      <td>3.999995e-02</td>\n",
       "      <td>0.218818</td>\n",
       "    </tr>\n",
       "    <tr>\n",
       "      <th>1562501</th>\n",
       "      <td>3.999997e-02</td>\n",
       "      <td>0.218818</td>\n",
       "    </tr>\n",
       "  </tbody>\n",
       "</table>\n",
       "<p>1562500 rows × 2 columns</p>\n",
       "</div>"
      ],
      "text/plain": [
       "                 Time   Voltage\n",
       "2        0.000000e+00  0.206758\n",
       "3        2.559990e-08  0.206758\n",
       "4        5.120000e-08  0.208768\n",
       "5        7.679990e-08  0.208768\n",
       "6        1.024000e-07  0.206758\n",
       "...               ...       ...\n",
       "1562497  3.999987e-02  0.216808\n",
       "1562498  3.999990e-02  0.218818\n",
       "1562499  3.999992e-02  0.218818\n",
       "1562500  3.999995e-02  0.218818\n",
       "1562501  3.999997e-02  0.218818\n",
       "\n",
       "[1562500 rows x 2 columns]"
      ]
     },
     "execution_count": 171,
     "metadata": {},
     "output_type": "execute_result"
    }
   ],
   "source": [
    "data2"
   ]
  },
  {
   "cell_type": "code",
   "execution_count": 172,
   "id": "3a8fb50d",
   "metadata": {},
   "outputs": [],
   "source": [
    "voltage_diff = data1['Voltage'] - data2['Voltage']\n",
    "data_diff = pd.DataFrame({'Time': data1['Time'], 'Voltage': voltage_diff})"
   ]
  },
  {
   "cell_type": "code",
   "execution_count": 173,
   "id": "dd695ad3",
   "metadata": {},
   "outputs": [
    {
     "data": {
      "text/html": [
       "<div>\n",
       "<style scoped>\n",
       "    .dataframe tbody tr th:only-of-type {\n",
       "        vertical-align: middle;\n",
       "    }\n",
       "\n",
       "    .dataframe tbody tr th {\n",
       "        vertical-align: top;\n",
       "    }\n",
       "\n",
       "    .dataframe thead th {\n",
       "        text-align: right;\n",
       "    }\n",
       "</style>\n",
       "<table border=\"1\" class=\"dataframe\">\n",
       "  <thead>\n",
       "    <tr style=\"text-align: right;\">\n",
       "      <th></th>\n",
       "      <th>Time</th>\n",
       "      <th>Voltage</th>\n",
       "    </tr>\n",
       "  </thead>\n",
       "  <tbody>\n",
       "    <tr>\n",
       "      <th>2</th>\n",
       "      <td>0.000000e+00</td>\n",
       "      <td>1.911382</td>\n",
       "    </tr>\n",
       "    <tr>\n",
       "      <th>3</th>\n",
       "      <td>2.560000e-08</td>\n",
       "      <td>1.911382</td>\n",
       "    </tr>\n",
       "    <tr>\n",
       "      <th>4</th>\n",
       "      <td>5.120010e-08</td>\n",
       "      <td>1.909372</td>\n",
       "    </tr>\n",
       "    <tr>\n",
       "      <th>5</th>\n",
       "      <td>7.680000e-08</td>\n",
       "      <td>1.909372</td>\n",
       "    </tr>\n",
       "    <tr>\n",
       "      <th>6</th>\n",
       "      <td>1.024001e-07</td>\n",
       "      <td>1.931482</td>\n",
       "    </tr>\n",
       "    <tr>\n",
       "      <th>...</th>\n",
       "      <td>...</td>\n",
       "      <td>...</td>\n",
       "    </tr>\n",
       "    <tr>\n",
       "      <th>1562497</th>\n",
       "      <td>3.999987e-02</td>\n",
       "      <td>2.001832</td>\n",
       "    </tr>\n",
       "    <tr>\n",
       "      <th>1562498</th>\n",
       "      <td>3.999990e-02</td>\n",
       "      <td>1.999822</td>\n",
       "    </tr>\n",
       "    <tr>\n",
       "      <th>1562499</th>\n",
       "      <td>3.999992e-02</td>\n",
       "      <td>1.979722</td>\n",
       "    </tr>\n",
       "    <tr>\n",
       "      <th>1562500</th>\n",
       "      <td>3.999995e-02</td>\n",
       "      <td>1.999822</td>\n",
       "    </tr>\n",
       "    <tr>\n",
       "      <th>1562501</th>\n",
       "      <td>3.999997e-02</td>\n",
       "      <td>1.999822</td>\n",
       "    </tr>\n",
       "  </tbody>\n",
       "</table>\n",
       "<p>1562500 rows × 2 columns</p>\n",
       "</div>"
      ],
      "text/plain": [
       "                 Time   Voltage\n",
       "2        0.000000e+00  1.911382\n",
       "3        2.560000e-08  1.911382\n",
       "4        5.120010e-08  1.909372\n",
       "5        7.680000e-08  1.909372\n",
       "6        1.024001e-07  1.931482\n",
       "...               ...       ...\n",
       "1562497  3.999987e-02  2.001832\n",
       "1562498  3.999990e-02  1.999822\n",
       "1562499  3.999992e-02  1.979722\n",
       "1562500  3.999995e-02  1.999822\n",
       "1562501  3.999997e-02  1.999822\n",
       "\n",
       "[1562500 rows x 2 columns]"
      ]
     },
     "execution_count": 173,
     "metadata": {},
     "output_type": "execute_result"
    }
   ],
   "source": [
    "data_diff"
   ]
  },
  {
   "cell_type": "code",
   "execution_count": 174,
   "id": "bb97eb02",
   "metadata": {},
   "outputs": [],
   "source": [
    "data_diff_trim = data_diff"
   ]
  },
  {
   "cell_type": "code",
   "execution_count": 175,
   "id": "8cacd13d",
   "metadata": {},
   "outputs": [
    {
     "data": {
      "image/png": "[encoded data removed]",
      "text/plain": [
       "<Figure size 720x432 with 1 Axes>"
      ]
     },
     "metadata": {
      "needs_background": "light"
     },
     "output_type": "display_data"
    }
   ],
   "source": [
    "plt.figure(figsize=(10, 6))\n",
    "plt.plot(data_diff_trim['Time'], data_diff_trim['Voltage'], marker='', linestyle='-')\n",
    "plt.title('Voltage vs. Time')\n",
    "plt.xlabel('Time')\n",
    "plt.ylabel('Voltage')\n",
    "plt.grid(True)\n",
    "plt.show()"
   ]
  },
  {
   "cell_type": "code",
   "execution_count": 176,
   "id": "61ef0377",
   "metadata": {},
   "outputs": [],
   "source": [
    "voltage = np.array(data_diff_trim['Voltage'])\n",
    "time = np.array(data_diff_trim['Time'])"
   ]
  },
  {
   "cell_type": "code",
   "execution_count": 177,
   "id": "88518007",
   "metadata": {},
   "outputs": [],
   "source": [
    "# voltage thresholds (paper)\n",
    "#   rising edge = 0.85 V\n",
    "#   falling edge = 0.2 V\n",
    "# voltage thresholds (used)\n",
    "#   rising edge = 1.4 V\n",
    "#   falling edge = 1.4 V\n",
    "\n",
    "# TODO: use differnt thresholds to improve accuracy"
   ]
  },
  {
   "cell_type": "code",
   "execution_count": 178,
   "id": "cbf13a6b",
   "metadata": {},
   "outputs": [
    {
     "data": {
      "text/plain": [
       "array([1, 1, 1, ..., 1, 1, 1])"
      ]
     },
     "execution_count": 178,
     "metadata": {},
     "output_type": "execute_result"
    }
   ],
   "source": [
    "# convert to square wave\n",
    "thresh = 1.4\n",
    "voltage_square = np.where(voltage > thresh, 1, 0)\n",
    "voltage_square"
   ]
  },
  {
   "cell_type": "code",
   "execution_count": 179,
   "id": "6693483f",
   "metadata": {},
   "outputs": [
    {
     "data": {
      "image/png": "[encoded data removed]",
      "text/plain": [
       "<Figure size 720x432 with 1 Axes>"
      ]
     },
     "metadata": {
      "needs_background": "light"
     },
     "output_type": "display_data"
    }
   ],
   "source": [
    "plt.figure(figsize=(10, 6))\n",
    "plt.plot(data_diff_trim['Time'], data_diff_trim['Voltage'], marker='', linestyle='-')\n",
    "plt.plot(time, voltage_square, marker='', linestyle='-')\n",
    "plt.title('Voltage vs. Time')\n",
    "plt.xlabel('Time')\n",
    "plt.ylabel('Voltage')\n",
    "plt.grid(True)\n",
    "plt.show()"
   ]
  },
  {
   "cell_type": "code",
   "execution_count": 180,
   "id": "f35d630b",
   "metadata": {},
   "outputs": [
    {
     "data": {
      "text/plain": [
       "array([     51,     209,     521, ..., 1558347, 1558502, 1558816])"
      ]
     },
     "execution_count": 180,
     "metadata": {},
     "output_type": "execute_result"
    }
   ],
   "source": [
    "transition_idx = np.where(np.diff(voltage_square) != 0)[0] + 1\n",
    "transition_idx"
   ]
  },
  {
   "cell_type": "code",
   "execution_count": 181,
   "id": "29de7dc0",
   "metadata": {},
   "outputs": [
    {
     "data": {
      "text/plain": [
       "array([1.30560010e-06, 5.35040000e-06, 1.33376000e-05, ...,\n",
       "       3.98936832e-02, 3.98976512e-02, 3.99056896e-02])"
      ]
     },
     "execution_count": 181,
     "metadata": {},
     "output_type": "execute_result"
    }
   ],
   "source": [
    "transition_time = time[transition_idx]\n",
    "transition_time"
   ]
  },
  {
   "cell_type": "code",
   "execution_count": 182,
   "id": "b8a97160",
   "metadata": {},
   "outputs": [
    {
     "data": {
      "text/plain": [
       "array([4.0447999e-06, 7.9872000e-06, 4.0192000e-06, ..., 3.9936000e-06,\n",
       "       3.9680000e-06, 8.0384000e-06])"
      ]
     },
     "execution_count": 182,
     "metadata": {},
     "output_type": "execute_result"
    }
   ],
   "source": [
    "transition_time_diff = np.diff(transition_time)\n",
    "transition_time_diff"
   ]
  },
  {
   "cell_type": "code",
   "execution_count": 191,
   "id": "c374bceb",
   "metadata": {},
   "outputs": [
    {
     "data": {
      "text/plain": [
       "array([4.0447999e-06, 4.0192000e-06, 8.0640000e-06, ..., 4.0704000e-06,\n",
       "       3.9936000e-06, 8.0384000e-06])"
      ]
     },
     "execution_count": 191,
     "metadata": {},
     "output_type": "execute_result"
    }
   ],
   "source": [
    "# TODO: get 0 and 1 correct\n",
    "transition_time_diff_1 = transition_time_diff[::2]\n",
    "transition_time_diff_0 = transition_time_diff[1::2]\n",
    "transition_time_diff_1"
   ]
  },
  {
   "cell_type": "code",
   "execution_count": 192,
   "id": "e468cba1",
   "metadata": {},
   "outputs": [
    {
     "data": {
      "text/plain": [
       "array([4.0447999e-06, 4.0192000e-06, 8.0640000e-06, ..., 4.0704000e-06,\n",
       "       3.9936000e-06, 8.0384000e-06])"
      ]
     },
     "execution_count": 192,
     "metadata": {},
     "output_type": "execute_result"
    }
   ],
   "source": [
    "# TODO: remove inter-frame gap\n",
    "transition_time_diff_1 = transition_time_diff_1[transition_time_diff_1 <= 0.00001]\n",
    "transition_time_diff_1"
   ]
  },
  {
   "cell_type": "code",
   "execution_count": 193,
   "id": "24b8bb40",
   "metadata": {},
   "outputs": [],
   "source": [
    "threshold = 0.0000045\n",
    "indices = np.where(transition_time_diff_1 > threshold)[0]\n",
    "\n",
    "new_vals = []\n",
    "\n",
    "for index in indices:\n",
    "    value = transition_time_diff_1[index]\n",
    "    new_vals.append(value/2)\n",
    "    new_vals.append(value/2)\n",
    "\n",
    "transition_time_diff_1 = np.delete(transition_time_diff_1, indices)\n",
    "\n",
    "transition_time_diff_1 = np.append(transition_time_diff_1, new_vals)"
   ]
  },
  {
   "cell_type": "code",
   "execution_count": 195,
   "id": "80c0a369",
   "metadata": {},
   "outputs": [
    {
     "data": {
      "text/plain": [
       "1.4030799375346855e-08"
      ]
     },
     "execution_count": 195,
     "metadata": {},
     "output_type": "execute_result"
    }
   ],
   "source": [
    "np.std(transition_time_diff_1)"
   ]
  },
  {
   "cell_type": "code",
   "execution_count": 187,
   "id": "642d0ae8",
   "metadata": {},
   "outputs": [],
   "source": [
    "# 4.028273696590262e-06\n",
    "# 3.969132610430705e-06\n",
    "\n",
    "# 4.0258128437643386e-06\n",
    "# 3.971959847519801e-06"
   ]
  },
  {
   "cell_type": "code",
   "execution_count": 188,
   "id": "9dd9151b",
   "metadata": {},
   "outputs": [],
   "source": [
    "# bit time approx\n",
    "# 500*10^3 bits per second\n",
    "# 2*10^6 seconds per bit\n",
    "# experimental bit rate is 4*10^6 seconds per bit"
   ]
  },
  {
   "cell_type": "code",
   "execution_count": 189,
   "id": "76f83a3e",
   "metadata": {},
   "outputs": [],
   "source": [
    "# 645,000 sps"
   ]
  },
  {
   "cell_type": "code",
   "execution_count": 190,
   "id": "215653a0",
   "metadata": {},
   "outputs": [],
   "source": [
    "# max data points is 2,000,000 (2 Mhz)\n",
    "# we want 50,000,000 sps\n",
    "# 0.04 sec to get same sampleing rate\n",
    "\n",
    "# 1 frame is 441*10^-6 s\n",
    "# 0.04 sec / 441*10^-6 s ~= 90 frames\n",
    "\n",
    "# bitrate = 500*10^3 bps\n",
    "# 1 frame ~80 bits\n",
    "# 1 frame = 0.00016 seconds = 160 * 10^-6 s\n",
    "\n",
    "# timeout > .5 ms = 1 ms\n",
    "\n",
    "# 0.04/10 = 0.004 = 4ms\n",
    "\n",
    "# 45 frames / 5 = 9 data points\n",
    "\n",
    "# 1 = LOW\n",
    "# 2 = HIGH\n",
    "# diff = 1-2"
   ]
  }
 ],
 "metadata": {
  "kernelspec": {
   "display_name": "general",
   "language": "python",
   "name": "general"
  },
  "language_info": {
   "codemirror_mode": {
    "name": "ipython",
    "version": 3
   },
   "file_extension": ".py",
   "mimetype": "text/x-python",
   "name": "python",
   "nbconvert_exporter": "python",
   "pygments_lexer": "ipython3",
   "version": "3.9.16"
  }
 },
 "nbformat": 4,
 "nbformat_minor": 5
}
